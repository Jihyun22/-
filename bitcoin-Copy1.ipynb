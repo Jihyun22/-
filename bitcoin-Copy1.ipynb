{
 "cells": [
  {
   "cell_type": "markdown",
   "metadata": {},
   "source": [
    "## [시계열데이터처리] 비트코인 시세예측\n",
    "##### 2017-2020년, 3년의 데이터를 가지고 4월 한달간 비트코인 변화 예측"
   ]
  },
  {
   "cell_type": "markdown",
   "metadata": {},
   "source": [
    "#### 시계열 데이터란"
   ]
  },
  {
   "cell_type": "markdown",
   "metadata": {},
   "source": [
    "#### 데이터 로드"
   ]
  },
  {
   "cell_type": "code",
   "execution_count": 248,
   "metadata": {},
   "outputs": [],
   "source": [
    "%matplotlib inline\n",
    "\n",
    "import pandas as pd\n",
    "import numpy as np\n",
    "import matplotlib.pyplot as plt"
   ]
  },
  {
   "cell_type": "code",
   "execution_count": 249,
   "metadata": {},
   "outputs": [],
   "source": [
    "# 3년치 데이터 로드\n",
    "train_path = 'train.csv'\n",
    "train = pd.read_csv(train_path)"
   ]
  },
  {
   "cell_type": "code",
   "execution_count": 250,
   "metadata": {},
   "outputs": [],
   "source": [
    "# 4월 데이터 로드 (04-25 기준)\n",
    "test_path = 'test.csv'\n",
    "test = pd.read_csv(test_path)"
   ]
  },
  {
   "cell_type": "code",
   "execution_count": 251,
   "metadata": {},
   "outputs": [
    {
     "name": "stdout",
     "output_type": "stream",
     "text": [
      "(1070, 2)\n",
      "(25, 2)\n"
     ]
    }
   ],
   "source": [
    "print(train.shape)\n",
    "print(test.shape)"
   ]
  },
  {
   "cell_type": "code",
   "execution_count": 252,
   "metadata": {
    "scrolled": true
   },
   "outputs": [
    {
     "name": "stdout",
     "output_type": "stream",
     "text": [
      "<class 'pandas.core.frame.DataFrame'>\n",
      "RangeIndex: 1070 entries, 0 to 1069\n",
      "Data columns (total 2 columns):\n",
      "Timestamp    1070 non-null object\n",
      "price        1070 non-null float64\n",
      "dtypes: float64(1), object(1)\n",
      "memory usage: 16.8+ KB\n"
     ]
    }
   ],
   "source": [
    "train.info()"
   ]
  },
  {
   "cell_type": "code",
   "execution_count": 253,
   "metadata": {},
   "outputs": [
    {
     "name": "stdout",
     "output_type": "stream",
     "text": [
      "<class 'pandas.core.frame.DataFrame'>\n",
      "RangeIndex: 25 entries, 0 to 24\n",
      "Data columns (total 2 columns):\n",
      "Timestamp    25 non-null object\n",
      "price        25 non-null float64\n",
      "dtypes: float64(1), object(1)\n",
      "memory usage: 528.0+ bytes\n"
     ]
    }
   ],
   "source": [
    "test.info()"
   ]
  },
  {
   "cell_type": "code",
   "execution_count": 254,
   "metadata": {},
   "outputs": [
    {
     "data": {
      "text/html": [
       "<div>\n",
       "<style scoped>\n",
       "    .dataframe tbody tr th:only-of-type {\n",
       "        vertical-align: middle;\n",
       "    }\n",
       "\n",
       "    .dataframe tbody tr th {\n",
       "        vertical-align: top;\n",
       "    }\n",
       "\n",
       "    .dataframe thead th {\n",
       "        text-align: right;\n",
       "    }\n",
       "</style>\n",
       "<table border=\"1\" class=\"dataframe\">\n",
       "  <thead>\n",
       "    <tr style=\"text-align: right;\">\n",
       "      <th></th>\n",
       "      <th>Timestamp</th>\n",
       "      <th>price</th>\n",
       "    </tr>\n",
       "  </thead>\n",
       "  <tbody>\n",
       "    <tr>\n",
       "      <td>0</td>\n",
       "      <td>2017-04-27 0:00</td>\n",
       "      <td>1240.794286</td>\n",
       "    </tr>\n",
       "    <tr>\n",
       "      <td>1</td>\n",
       "      <td>2017-04-28 0:00</td>\n",
       "      <td>1252.654286</td>\n",
       "    </tr>\n",
       "    <tr>\n",
       "      <td>2</td>\n",
       "      <td>2017-04-29 0:00</td>\n",
       "      <td>1266.040000</td>\n",
       "    </tr>\n",
       "    <tr>\n",
       "      <td>3</td>\n",
       "      <td>2017-04-30 0:00</td>\n",
       "      <td>1278.481429</td>\n",
       "    </tr>\n",
       "    <tr>\n",
       "      <td>4</td>\n",
       "      <td>2017-05-01 0:00</td>\n",
       "      <td>1292.732857</td>\n",
       "    </tr>\n",
       "  </tbody>\n",
       "</table>\n",
       "</div>"
      ],
      "text/plain": [
       "         Timestamp        price\n",
       "0  2017-04-27 0:00  1240.794286\n",
       "1  2017-04-28 0:00  1252.654286\n",
       "2  2017-04-29 0:00  1266.040000\n",
       "3  2017-04-30 0:00  1278.481429\n",
       "4  2017-05-01 0:00  1292.732857"
      ]
     },
     "execution_count": 254,
     "metadata": {},
     "output_type": "execute_result"
    }
   ],
   "source": [
    "train.head()"
   ]
  },
  {
   "cell_type": "code",
   "execution_count": 255,
   "metadata": {},
   "outputs": [
    {
     "data": {
      "text/html": [
       "<div>\n",
       "<style scoped>\n",
       "    .dataframe tbody tr th:only-of-type {\n",
       "        vertical-align: middle;\n",
       "    }\n",
       "\n",
       "    .dataframe tbody tr th {\n",
       "        vertical-align: top;\n",
       "    }\n",
       "\n",
       "    .dataframe thead th {\n",
       "        text-align: right;\n",
       "    }\n",
       "</style>\n",
       "<table border=\"1\" class=\"dataframe\">\n",
       "  <thead>\n",
       "    <tr style=\"text-align: right;\">\n",
       "      <th></th>\n",
       "      <th>Timestamp</th>\n",
       "      <th>price</th>\n",
       "    </tr>\n",
       "  </thead>\n",
       "  <tbody>\n",
       "    <tr>\n",
       "      <td>0</td>\n",
       "      <td>2020-04-01 0:00</td>\n",
       "      <td>6428.28</td>\n",
       "    </tr>\n",
       "    <tr>\n",
       "      <td>1</td>\n",
       "      <td>2020-04-02 0:00</td>\n",
       "      <td>6652.87</td>\n",
       "    </tr>\n",
       "    <tr>\n",
       "      <td>2</td>\n",
       "      <td>2020-04-03 0:00</td>\n",
       "      <td>6809.11</td>\n",
       "    </tr>\n",
       "    <tr>\n",
       "      <td>3</td>\n",
       "      <td>2020-04-04 0:00</td>\n",
       "      <td>6741.67</td>\n",
       "    </tr>\n",
       "    <tr>\n",
       "      <td>4</td>\n",
       "      <td>2020-04-05 0:00</td>\n",
       "      <td>6871.69</td>\n",
       "    </tr>\n",
       "  </tbody>\n",
       "</table>\n",
       "</div>"
      ],
      "text/plain": [
       "         Timestamp    price\n",
       "0  2020-04-01 0:00  6428.28\n",
       "1  2020-04-02 0:00  6652.87\n",
       "2  2020-04-03 0:00  6809.11\n",
       "3  2020-04-04 0:00  6741.67\n",
       "4  2020-04-05 0:00  6871.69"
      ]
     },
     "execution_count": 255,
     "metadata": {},
     "output_type": "execute_result"
    }
   ],
   "source": [
    "test.head()"
   ]
  },
  {
   "cell_type": "markdown",
   "metadata": {},
   "source": [
    "#### 가격 추이 시각화"
   ]
  },
  {
   "cell_type": "code",
   "execution_count": 256,
   "metadata": {},
   "outputs": [],
   "source": [
    "# to_datetime 메소드를 통해 day 피처를 시계열 피처 처리\n",
    "train['Timestamp'] = pd.to_datetime(train['Timestamp'])\n",
    "# 프레임 인덱스 설정\n",
    "train.index = train['Timestamp']\n",
    "train.set_index('Timestamp', inplace=True)"
   ]
  },
  {
   "cell_type": "code",
   "execution_count": 257,
   "metadata": {},
   "outputs": [
    {
     "data": {
      "image/png": "[encoded data removed]",
      "text/plain": [
       "<Figure size 432x288 with 1 Axes>"
      ]
     },
     "metadata": {
      "needs_background": "light"
     },
     "output_type": "display_data"
    }
   ],
   "source": [
    "# 시각화\n",
    "train.plot()\n",
    "plt.show()"
   ]
  },
  {
   "cell_type": "markdown",
   "metadata": {},
   "source": [
    "#### ARIMA 분석 방법"
   ]
  },
  {
   "cell_type": "markdown",
   "metadata": {},
   "source": [
    "##### 1. AR모델로 자신의 과거를 정보로 사용하는 개념(현재의 상태는 이전의 상태를 참고해서 계산된다)\n",
    "##### 2. MA모델로 이전 항에서의 오차를 이용하여 현재 항의 상태를 추론하겠다\n",
    "##### 파이썬에서는 statsmodel 모듈로 arima분석을 수행할 수 있다. "
   ]
  },
  {
   "cell_type": "code",
   "execution_count": 258,
   "metadata": {},
   "outputs": [],
   "source": [
    "from statsmodels.tsa.arima_model import ARIMA\n",
    "import statsmodels.api as sm"
   ]
  },
  {
   "cell_type": "code",
   "execution_count": 259,
   "metadata": {},
   "outputs": [
    {
     "data": {
      "image/png": "[encoded data removed]",
      "text/plain": [
       "<Figure size 432x288 with 1 Axes>"
      ]
     },
     "metadata": {
      "needs_background": "light"
     },
     "output_type": "display_data"
    },
    {
     "data": {
      "image/png": "[encoded data removed]",
      "text/plain": [
       "<Figure size 432x288 with 1 Axes>"
      ]
     },
     "metadata": {
      "needs_background": "light"
     },
     "output_type": "display_data"
    }
   ],
   "source": [
    "#ARIMA 의 order 파라미터 p,d,q의 최적 조합 찾기\n",
    "from statsmodels.graphics.tsaplots import plot_acf, plot_pacf\n",
    "\n",
    "plot_acf(train)\n",
    "plot_pacf(train)\n",
    "plt.show()\n",
    "# 자기상관은 항상 양 \n",
    "# 급격 감소 q=1"
   ]
  },
  {
   "cell_type": "code",
   "execution_count": 260,
   "metadata": {},
   "outputs": [
    {
     "data": {
      "image/png": "[encoded data removed]",
      "text/plain": [
       "<Figure size 432x288 with 1 Axes>"
      ]
     },
     "metadata": {
      "needs_background": "light"
     },
     "output_type": "display_data"
    },
    {
     "data": {
      "image/png": "[encoded data removed]",
      "text/plain": [
       "<Figure size 432x288 with 1 Axes>"
      ]
     },
     "metadata": {
      "needs_background": "light"
     },
     "output_type": "display_data"
    },
    {
     "data": {
      "image/png": "[encoded data removed]",
      "text/plain": [
       "<Figure size 432x288 with 1 Axes>"
      ]
     },
     "metadata": {
      "needs_background": "light"
     },
     "output_type": "display_data"
    }
   ],
   "source": [
    "# 적절 차분 차수 d 계산 \n",
    "tmp=train.diff(periods=1).iloc[1:] #2차 차분\n",
    "tmp.plot()\n",
    "plot_acf(tmp)\n",
    "plot_pacf(tmp)\n",
    "plt.show()\n",
    "# 시계열 정상상태. (p, d, q) = (0, 1, 1)"
   ]
  },
  {
   "cell_type": "code",
   "execution_count": 261,
   "metadata": {},
   "outputs": [],
   "source": [
    "# AR=2, 차분=1, MA=2 파라미터로 ARIMA 모델을 학습 -> 파라미터 조정 필요하나 생략함 따라서 임의설정\n",
    "model = ARIMA(train.price.values, order=(0,1,1))\n",
    "model_fit = model.fit(trend='c', full_output=True, disp=True)"
   ]
  },
  {
   "cell_type": "code",
   "execution_count": 262,
   "metadata": {},
   "outputs": [
    {
     "name": "stdout",
     "output_type": "stream",
     "text": [
      "                             ARIMA Model Results                              \n",
      "==============================================================================\n",
      "Dep. Variable:                    D.y   No. Observations:                 1069\n",
      "Model:                 ARIMA(0, 1, 1)   Log Likelihood               -6476.567\n",
      "Method:                       css-mle   S.D. of innovations            103.472\n",
      "Date:                Sat, 25 Apr 2020   AIC                          12959.133\n",
      "Time:                        17:04:49   BIC                          12974.057\n",
      "Sample:                             1   HQIC                         12964.787\n",
      "                                                                              \n",
      "==============================================================================\n",
      "                 coef    std err          z      P>|z|      [0.025      0.975]\n",
      "------------------------------------------------------------------------------\n",
      "const          4.9048      5.315      0.923      0.356      -5.513      15.323\n",
      "ma.L1.D.y      0.6802      0.015     44.525      0.000       0.650       0.710\n",
      "                                    Roots                                    \n",
      "=============================================================================\n",
      "                  Real          Imaginary           Modulus         Frequency\n",
      "-----------------------------------------------------------------------------\n",
      "MA.1           -1.4701           +0.0000j            1.4701            0.5000\n",
      "-----------------------------------------------------------------------------\n"
     ]
    }
   ],
   "source": [
    "print(model_fit.summary())"
   ]
  },
  {
   "cell_type": "code",
   "execution_count": 263,
   "metadata": {},
   "outputs": [],
   "source": [
    "# P 값이 t-test\n",
    "# 0.05 수준에서 상수 부적절\n",
    "# c->nc\n",
    "model = ARIMA(train.price.values, order=(0,1,1))\n",
    "model_fit = model.fit(trend='nc', full_output=True, disp=True)"
   ]
  },
  {
   "cell_type": "code",
   "execution_count": 264,
   "metadata": {},
   "outputs": [
    {
     "name": "stdout",
     "output_type": "stream",
     "text": [
      "                             ARIMA Model Results                              \n",
      "==============================================================================\n",
      "Dep. Variable:                    D.y   No. Observations:                 1069\n",
      "Model:                 ARIMA(0, 1, 1)   Log Likelihood               -6476.992\n",
      "Method:                       css-mle   S.D. of innovations            103.513\n",
      "Date:                Sat, 25 Apr 2020   AIC                          12957.983\n",
      "Time:                        17:04:49   BIC                          12967.932\n",
      "Sample:                             1   HQIC                         12961.752\n",
      "                                                                              \n",
      "==============================================================================\n",
      "                 coef    std err          z      P>|z|      [0.025      0.975]\n",
      "------------------------------------------------------------------------------\n",
      "ma.L1.D.y      0.6803      0.015     44.542      0.000       0.650       0.710\n",
      "                                    Roots                                    \n",
      "=============================================================================\n",
      "                  Real          Imaginary           Modulus         Frequency\n",
      "-----------------------------------------------------------------------------\n",
      "MA.1           -1.4698           +0.0000j            1.4698            0.5000\n",
      "-----------------------------------------------------------------------------\n"
     ]
    }
   ],
   "source": [
    "print(model_fit.summary())"
   ]
  },
  {
   "cell_type": "code",
   "execution_count": 265,
   "metadata": {},
   "outputs": [
    {
     "data": {
      "image/png": "[encoded data removed]",
      "text/plain": [
       "<Figure size 432x288 with 1 Axes>"
      ]
     },
     "metadata": {
      "needs_background": "light"
     },
     "output_type": "display_data"
    }
   ],
   "source": [
    "# 학습 데이터 예측 결과 -> 양호\n",
    "fig = model_fit.plot_predict()"
   ]
  },
  {
   "cell_type": "code",
   "execution_count": 266,
   "metadata": {},
   "outputs": [
    {
     "data": {
      "text/plain": [
       "<matplotlib.axes._subplots.AxesSubplot at 0x2629cf17348>"
      ]
     },
     "execution_count": 266,
     "metadata": {},
     "output_type": "execute_result"
    },
    {
     "data": {
      "image/png": "[encoded data removed]",
      "text/plain": [
       "<Figure size 432x288 with 1 Axes>"
      ]
     },
     "metadata": {
      "needs_background": "light"
     },
     "output_type": "display_data"
    }
   ],
   "source": [
    "# 잔차의 변동 시각화\n",
    "residuals = pd.DataFrame(model_fit.resid)\n",
    "residuals.plot()\n",
    "# 폭이 일정해야 좋음 -> 불규칙한 형태이나 절댓값 600이하로 양호"
   ]
  },
  {
   "cell_type": "markdown",
   "metadata": {},
   "source": [
    "#### 평가"
   ]
  },
  {
   "cell_type": "code",
   "execution_count": 267,
   "metadata": {},
   "outputs": [],
   "source": [
    "# 4월 한달간(25일) 시세 차트인 test 데이터 프레임 사용\n",
    "pred_model = model_fit.forecast(steps=25)"
   ]
  },
  {
   "cell_type": "code",
   "execution_count": 268,
   "metadata": {},
   "outputs": [],
   "source": [
    "# 25일간 예측 데이터\n",
    "pred=pred_model[0].tolist()"
   ]
  },
  {
   "cell_type": "code",
   "execution_count": 269,
   "metadata": {},
   "outputs": [],
   "source": [
    "# 실제 25일간 데이터\n",
    "test_y=test.price.values"
   ]
  },
  {
   "cell_type": "code",
   "execution_count": 270,
   "metadata": {},
   "outputs": [],
   "source": [
    "# 시각화\n",
    "pred_lower = []\n",
    "pred_upper = []\n",
    "for lower_upper in pred_model[2]:\n",
    "    lower = lower_upper[0]\n",
    "    upper = lower_upper[1]\n",
    "    pred_lower.append(lower)\n",
    "    pred_upper.append(upper)"
   ]
  },
  {
   "cell_type": "code",
   "execution_count": 271,
   "metadata": {},
   "outputs": [
    {
     "data": {
      "text/plain": [
       "[<matplotlib.lines.Line2D at 0x262955a6fc8>]"
      ]
     },
     "execution_count": 271,
     "metadata": {},
     "output_type": "execute_result"
    },
    {
     "data": {
      "image/png": "[encoded data removed]",
      "text/plain": [
       "<Figure size 432x288 with 1 Axes>"
      ]
     },
     "metadata": {
      "needs_background": "light"
     },
     "output_type": "display_data"
    }
   ],
   "source": [
    "plt.plot(pred, color=\"blue\") # 예측 가격\n",
    "plt.plot(pred_lower, color = \"gray\") # 예측 최저가격\n",
    "plt.plot(pred_upper, color = \"pink\") # 예측 최고가격\n",
    "plt.plot(test_y, color = \"red\") # 실제가격"
   ]
  },
  {
   "cell_type": "code",
   "execution_count": 272,
   "metadata": {},
   "outputs": [
    {
     "data": {
      "text/plain": [
       "[<matplotlib.lines.Line2D at 0x2629685e388>]"
      ]
     },
     "execution_count": 272,
     "metadata": {},
     "output_type": "execute_result"
    },
    {
     "data": {
      "image/png": "[encoded data removed]",
      "text/plain": [
       "<Figure size 432x288 with 1 Axes>"
      ]
     },
     "metadata": {
      "needs_background": "light"
     },
     "output_type": "display_data"
    }
   ],
   "source": [
    "plt.plot(pred, color=\"blue\") # 예측 가격\n",
    "plt.plot(test_y, color = \"red\") # 실제가격"
   ]
  },
  {
   "cell_type": "code",
   "execution_count": 273,
   "metadata": {},
   "outputs": [
    {
     "data": {
      "text/plain": [
       "[<matplotlib.lines.Line2D at 0x2629b54b848>]"
      ]
     },
     "execution_count": 273,
     "metadata": {},
     "output_type": "execute_result"
    },
    {
     "data": {
      "image/png": "[encoded data removed]",
      "text/plain": [
       "<Figure size 432x288 with 1 Axes>"
      ]
     },
     "metadata": {
      "needs_background": "light"
     },
     "output_type": "display_data"
    }
   ],
   "source": [
    "plt.plot(pred, color=\"blue\") # 예측 가격"
   ]
  },
  {
   "cell_type": "markdown",
   "metadata": {},
   "source": [
    "#### Additive 모델"
   ]
  },
  {
   "cell_type": "code",
   "execution_count": 274,
   "metadata": {},
   "outputs": [
    {
     "name": "stdout",
     "output_type": "stream",
     "text": [
      "Collecting package metadata (current_repodata.json): ...working... done\n",
      "Solving environment: ...working... done\n",
      "\n",
      "## Package Plan ##\n",
      "\n",
      "  environment location: C:\\Users\\jih02\\AppData\\Local\\Continuum\\anaconda3\n",
      "\n",
      "  added / updated specs:\n",
      "    - fbprophet\n",
      "\n",
      "\n",
      "The following packages will be downloaded:\n",
      "\n",
      "    package                    |            build\n",
      "    ---------------------------|-----------------\n",
      "    conda-4.8.3                |   py37hc8dfbb8_1         3.1 MB  conda-forge\n",
      "    convertdate-2.1.3          |          py_1000          30 KB  conda-forge\n",
      "    ephem-3.7.7.1              |   py37hfa6e2cd_0         741 KB  conda-forge\n",
      "    fbprophet-0.6              |   py37h6538335_0         521 KB  conda-forge\n",
      "    holidays-0.10.1            |             py_0          56 KB  conda-forge\n",
      "    libpython-2.0              |           py37_0          47 KB  conda-forge\n",
      "    lunarcalendar-0.0.9        |             py_0          20 KB  conda-forge\n",
      "    m2w64-binutils-2.25.1      |                5        44.3 MB\n",
      "    m2w64-bzip2-1.0.6          |                6         100 KB\n",
      "    m2w64-crt-git-5.0.0.4636.2595836|                2         3.4 MB\n",
      "    m2w64-gcc-5.3.0            |                6        41.1 MB\n",
      "    m2w64-gcc-ada-5.3.0        |                6        33.5 MB\n",
      "    m2w64-gcc-fortran-5.3.0    |                6        10.3 MB\n",
      "    m2w64-gcc-objc-5.3.0       |                6        15.1 MB\n",
      "    m2w64-headers-git-5.0.0.4636.c0ad18a|                2         5.6 MB\n",
      "    m2w64-isl-0.16.1           |                2         655 KB\n",
      "    m2w64-libiconv-1.14        |                6         1.5 MB\n",
      "    m2w64-libmangle-git-5.0.0.4509.2e5a9a2|                2          21 KB\n",
      "    m2w64-make-4.1.2351.a80a8b8|                2         116 KB\n",
      "    m2w64-mpc-1.0.3            |                3          70 KB\n",
      "    m2w64-mpfr-3.1.4           |                4         293 KB\n",
      "    m2w64-pkg-config-0.29.1    |                2         469 KB\n",
      "    m2w64-toolchain-5.3.0      |                7           2 KB\n",
      "    m2w64-tools-git-5.0.0.4592.90b8472|                2         314 KB\n",
      "    m2w64-windows-default-manifest-6.4|                3           3 KB\n",
      "    m2w64-winpthreads-git-5.0.0.4634.697f757|                2          45 KB\n",
      "    m2w64-zlib-1.2.8           |               10         197 KB\n",
      "    matplotlib-base-3.2.1      |   py37h911224e_0         7.1 MB  conda-forge\n",
      "    pystan-2.19.0.0            |   py37hcce6980_0        11.9 MB\n",
      "    python_abi-3.7             |          1_cp37m           4 KB  conda-forge\n",
      "    ------------------------------------------------------------\n",
      "                                           Total:       180.6 MB\n",
      "\n",
      "The following NEW packages will be INSTALLED:\n",
      "\n",
      "  convertdate        conda-forge/noarch::convertdate-2.1.3-py_1000\n",
      "  ephem              conda-forge/win-64::ephem-3.7.7.1-py37hfa6e2cd_0\n",
      "  fbprophet          conda-forge/win-64::fbprophet-0.6-py37h6538335_0\n",
      "  holidays           conda-forge/noarch::holidays-0.10.1-py_0\n",
      "  libpython          conda-forge/win-64::libpython-2.0-py37_0\n",
      "  lunarcalendar      conda-forge/noarch::lunarcalendar-0.0.9-py_0\n",
      "  m2w64-binutils     pkgs/msys2/win-64::m2w64-binutils-2.25.1-5\n",
      "  m2w64-bzip2        pkgs/msys2/win-64::m2w64-bzip2-1.0.6-6\n",
      "  m2w64-crt-git      pkgs/msys2/win-64::m2w64-crt-git-5.0.0.4636.2595836-2\n",
      "  m2w64-gcc          pkgs/msys2/win-64::m2w64-gcc-5.3.0-6\n",
      "  m2w64-gcc-ada      pkgs/msys2/win-64::m2w64-gcc-ada-5.3.0-6\n",
      "  m2w64-gcc-fortran  pkgs/msys2/win-64::m2w64-gcc-fortran-5.3.0-6\n",
      "  m2w64-gcc-objc     pkgs/msys2/win-64::m2w64-gcc-objc-5.3.0-6\n",
      "  m2w64-headers-git  pkgs/msys2/win-64::m2w64-headers-git-5.0.0.4636.c0ad18a-2\n",
      "  m2w64-isl          pkgs/msys2/win-64::m2w64-isl-0.16.1-2\n",
      "  m2w64-libiconv     pkgs/msys2/win-64::m2w64-libiconv-1.14-6\n",
      "  m2w64-libmangle-g~ pkgs/msys2/win-64::m2w64-libmangle-git-5.0.0.4509.2e5a9a2-2\n",
      "  m2w64-make         pkgs/msys2/win-64::m2w64-make-4.1.2351.a80a8b8-2\n",
      "  m2w64-mpc          pkgs/msys2/win-64::m2w64-mpc-1.0.3-3\n",
      "  m2w64-mpfr         pkgs/msys2/win-64::m2w64-mpfr-3.1.4-4\n",
      "  m2w64-pkg-config   pkgs/msys2/win-64::m2w64-pkg-config-0.29.1-2\n",
      "  m2w64-toolchain    pkgs/msys2/win-64::m2w64-toolchain-5.3.0-7\n",
      "  m2w64-tools-git    pkgs/msys2/win-64::m2w64-tools-git-5.0.0.4592.90b8472-2\n",
      "  m2w64-windows-def~ pkgs/msys2/win-64::m2w64-windows-default-manifest-6.4-3\n",
      "  m2w64-winpthreads~ pkgs/msys2/win-64::m2w64-winpthreads-git-5.0.0.4634.697f757-2\n",
      "  m2w64-zlib         pkgs/msys2/win-64::m2w64-zlib-1.2.8-10\n",
      "  matplotlib-base    conda-forge/win-64::matplotlib-base-3.2.1-py37h911224e_0\n",
      "  pystan             pkgs/main/win-64::pystan-2.19.0.0-py37hcce6980_0\n",
      "  python_abi         conda-forge/win-64::python_abi-3.7-1_cp37m\n",
      "\n",
      "The following packages will be UPDATED:\n",
      "\n",
      "  conda                      pkgs/main::conda-4.7.12-py37_0 --> conda-forge::conda-4.8.3-py37hc8dfbb8_1\n",
      "\n",
      "\n",
      "\n",
      "Downloading and Extracting Packages\n",
      "\n",
      "fbprophet-0.6        | 521 KB    |            |   0% \n",
      "fbprophet-0.6        | 521 KB    | 3          |   3% \n",
      "fbprophet-0.6        | 521 KB    | ########## | 100% \n",
      "\n",
      "m2w64-mpc-1.0.3      | 70 KB     |            |   0% \n",
      "m2w64-mpc-1.0.3      | 70 KB     | ########## | 100% \n",
      "\n",
      "m2w64-crt-git-5.0.0. | 3.4 MB    |            |   0% \n",
      "m2w64-crt-git-5.0.0. | 3.4 MB    | #          |  11% \n",
      "m2w64-crt-git-5.0.0. | 3.4 MB    | ####3      |  43% \n",
      "m2w64-crt-git-5.0.0. | 3.4 MB    | ######1    |  62% \n",
      "m2w64-crt-git-5.0.0. | 3.4 MB    | #######5   |  75% \n",
      "m2w64-crt-git-5.0.0. | 3.4 MB    | ########6  |  87% \n",
      "m2w64-crt-git-5.0.0. | 3.4 MB    | #########8 |  98% \n",
      "m2w64-crt-git-5.0.0. | 3.4 MB    | ########## | 100% \n",
      "\n",
      "matplotlib-base-3.2. | 7.1 MB    |            |   0% \n",
      "matplotlib-base-3.2. | 7.1 MB    | 3          |   3% \n",
      "matplotlib-base-3.2. | 7.1 MB    | ##2        |  22% \n",
      "matplotlib-base-3.2. | 7.1 MB    | ###2       |  33% \n",
      "matplotlib-base-3.2. | 7.1 MB    | ####       |  41% \n",
      "matplotlib-base-3.2. | 7.1 MB    | #####9     |  60% \n",
      "matplotlib-base-3.2. | 7.1 MB    | #######    |  71% \n",
      "matplotlib-base-3.2. | 7.1 MB    | ########1  |  81% \n",
      "matplotlib-base-3.2. | 7.1 MB    | #########4 |  95% \n",
      "matplotlib-base-3.2. | 7.1 MB    | ########## | 100% \n",
      "\n",
      "holidays-0.10.1      | 56 KB     |            |   0% \n",
      "holidays-0.10.1      | 56 KB     | ########## | 100% \n",
      "\n",
      "m2w64-winpthreads-gi | 45 KB     |            |   0% \n",
      "m2w64-winpthreads-gi | 45 KB     | ########## | 100% \n",
      "\n",
      "m2w64-gcc-5.3.0      | 41.1 MB   |            |   0% \n",
      "m2w64-gcc-5.3.0      | 41.1 MB   | 2          |   2% \n",
      "m2w64-gcc-5.3.0      | 41.1 MB   | 4          |   5% \n",
      "m2w64-gcc-5.3.0      | 41.1 MB   | 7          |   7% \n",
      "m2w64-gcc-5.3.0      | 41.1 MB   | 8          |   8% \n",
      "m2w64-gcc-5.3.0      | 41.1 MB   | 9          |  10% \n",
      "m2w64-gcc-5.3.0      | 41.1 MB   | #1         |  11% \n",
      "m2w64-gcc-5.3.0      | 41.1 MB   | #3         |  14% \n",
      "m2w64-gcc-5.3.0      | 41.1 MB   | #5         |  16% \n",
      "m2w64-gcc-5.3.0      | 41.1 MB   | #7         |  17% \n",
      "m2w64-gcc-5.3.0      | 41.1 MB   | #8         |  18% \n",
      "m2w64-gcc-5.3.0      | 41.1 MB   | ##1        |  22% \n",
      "m2w64-gcc-5.3.0      | 41.1 MB   | ##4        |  24% \n",
      "m2w64-gcc-5.3.0      | 41.1 MB   | ##7        |  27% \n",
      "m2w64-gcc-5.3.0      | 41.1 MB   | ##9        |  30% \n",
      "m2w64-gcc-5.3.0      | 41.1 MB   | ###2       |  32% \n",
      "m2w64-gcc-5.3.0      | 41.1 MB   | ###4       |  34% \n",
      "m2w64-gcc-5.3.0      | 41.1 MB   | ###6       |  37% \n",
      "m2w64-gcc-5.3.0      | 41.1 MB   | ###8       |  38% \n",
      "m2w64-gcc-5.3.0      | 41.1 MB   | ####1      |  41% \n",
      "m2w64-gcc-5.3.0      | 41.1 MB   | ####2      |  43% \n",
      "m2w64-gcc-5.3.0      | 41.1 MB   | ####5      |  46% \n",
      "m2w64-gcc-5.3.0      | 41.1 MB   | ####8      |  48% \n",
      "m2w64-gcc-5.3.0      | 41.1 MB   | #####      |  51% \n",
      "m2w64-gcc-5.3.0      | 41.1 MB   | #####2     |  52% \n",
      "m2w64-gcc-5.3.0      | 41.1 MB   | #####4     |  55% \n",
      "m2w64-gcc-5.3.0      | 41.1 MB   | #####7     |  58% \n",
      "m2w64-gcc-5.3.0      | 41.1 MB   | #####9     |  60% \n",
      "m2w64-gcc-5.3.0      | 41.1 MB   | ######3    |  64% \n",
      "m2w64-gcc-5.3.0      | 41.1 MB   | ######6    |  66% \n",
      "m2w64-gcc-5.3.0      | 41.1 MB   | ######9    |  69% \n",
      "m2w64-gcc-5.3.0      | 41.1 MB   | #######1   |  72% \n",
      "m2w64-gcc-5.3.0      | 41.1 MB   | #######4   |  74% \n",
      "m2w64-gcc-5.3.0      | 41.1 MB   | #######7   |  77% \n",
      "m2w64-gcc-5.3.0      | 41.1 MB   | #######9   |  80% \n",
      "m2w64-gcc-5.3.0      | 41.1 MB   | ########2  |  83% \n",
      "m2w64-gcc-5.3.0      | 41.1 MB   | ########5  |  85% \n",
      "m2w64-gcc-5.3.0      | 41.1 MB   | ########7  |  88% \n",
      "m2w64-gcc-5.3.0      | 41.1 MB   | #########  |  90% \n",
      "m2w64-gcc-5.3.0      | 41.1 MB   | #########2 |  92% \n",
      "m2w64-gcc-5.3.0      | 41.1 MB   | #########4 |  95% \n",
      "m2w64-gcc-5.3.0      | 41.1 MB   | #########6 |  97% \n",
      "m2w64-gcc-5.3.0      | 41.1 MB   | #########8 |  99% \n",
      "m2w64-gcc-5.3.0      | 41.1 MB   | ########## | 100% \n",
      "\n",
      "m2w64-pkg-config-0.2 | 469 KB    |            |   0% \n",
      "m2w64-pkg-config-0.2 | 469 KB    | 3          |   3% \n",
      "m2w64-pkg-config-0.2 | 469 KB    | ########## | 100% \n",
      "\n",
      "m2w64-gcc-objc-5.3.0 | 15.1 MB   |            |   0% \n",
      "m2w64-gcc-objc-5.3.0 | 15.1 MB   |            |   1% \n",
      "m2w64-gcc-objc-5.3.0 | 15.1 MB   | 7          |   8% \n",
      "m2w64-gcc-objc-5.3.0 | 15.1 MB   | #1         |  12% \n",
      "m2w64-gcc-objc-5.3.0 | 15.1 MB   | ##         |  21% \n",
      "m2w64-gcc-objc-5.3.0 | 15.1 MB   | ##5        |  26% \n",
      "m2w64-gcc-objc-5.3.0 | 15.1 MB   | ##9        |  29% \n",
      "m2w64-gcc-objc-5.3.0 | 15.1 MB   | ###7       |  37% \n",
      "m2w64-gcc-objc-5.3.0 | 15.1 MB   | ####1      |  42% \n",
      "m2w64-gcc-objc-5.3.0 | 15.1 MB   | ####5      |  46% \n",
      "m2w64-gcc-objc-5.3.0 | 15.1 MB   | #####2     |  52% \n",
      "m2w64-gcc-objc-5.3.0 | 15.1 MB   | #####8     |  58% \n",
      "m2w64-gcc-objc-5.3.0 | 15.1 MB   | ######6    |  66% \n",
      "m2w64-gcc-objc-5.3.0 | 15.1 MB   | #######1   |  71% \n",
      "m2w64-gcc-objc-5.3.0 | 15.1 MB   | ########   |  81% \n",
      "m2w64-gcc-objc-5.3.0 | 15.1 MB   | ########6  |  87% \n",
      "m2w64-gcc-objc-5.3.0 | 15.1 MB   | #########4 |  95% \n",
      "m2w64-gcc-objc-5.3.0 | 15.1 MB   | ########## | 100% \n",
      "\n",
      "conda-4.8.3          | 3.1 MB    |            |   0% \n",
      "conda-4.8.3          | 3.1 MB    | #8         |  19% \n",
      "conda-4.8.3          | 3.1 MB    | ####2      |  43% \n",
      "conda-4.8.3          | 3.1 MB    | #######1   |  71% \n",
      "conda-4.8.3          | 3.1 MB    | ########## | 100% \n",
      "\n",
      "m2w64-zlib-1.2.8     | 197 KB    |            |   0% \n",
      "m2w64-zlib-1.2.8     | 197 KB    | ########## | 100% \n",
      "\n",
      "libpython-2.0        | 47 KB     |            |   0% \n",
      "libpython-2.0        | 47 KB     | ########## | 100% \n",
      "\n",
      "m2w64-windows-defaul | 3 KB      |            |   0% \n",
      "m2w64-windows-defaul | 3 KB      | ########## | 100% \n",
      "\n",
      "m2w64-isl-0.16.1     | 655 KB    |            |   0% \n",
      "m2w64-isl-0.16.1     | 655 KB    | ########## | 100% \n",
      "\n",
      "m2w64-bzip2-1.0.6    | 100 KB    |            |   0% \n",
      "m2w64-bzip2-1.0.6    | 100 KB    | ########## | 100% \n",
      "\n",
      "m2w64-headers-git-5. | 5.6 MB    |            |   0% \n",
      "m2w64-headers-git-5. | 5.6 MB    | #5         |  16% \n",
      "m2w64-headers-git-5. | 5.6 MB    | ##         |  20% \n",
      "m2w64-headers-git-5. | 5.6 MB    | ##6        |  27% \n",
      "m2w64-headers-git-5. | 5.6 MB    | ####       |  41% \n",
      "m2w64-headers-git-5. | 5.6 MB    | ####8      |  48% \n",
      "m2w64-headers-git-5. | 5.6 MB    | ######8    |  68% \n",
      "m2w64-headers-git-5. | 5.6 MB    | ########   |  81% \n",
      "m2w64-headers-git-5. | 5.6 MB    | ########## | 100% \n",
      "\n",
      "m2w64-libiconv-1.14  | 1.5 MB    |            |   0% \n",
      "m2w64-libiconv-1.14  | 1.5 MB    | #          |  11% \n",
      "m2w64-libiconv-1.14  | 1.5 MB    | #######2   |  72% \n",
      "m2w64-libiconv-1.14  | 1.5 MB    | ########## | 100% \n",
      "\n",
      "m2w64-libmangle-git- | 21 KB     |            |   0% \n",
      "m2w64-libmangle-git- | 21 KB     | ########## | 100% \n",
      "\n",
      "m2w64-gcc-ada-5.3.0  | 33.5 MB   |            |   0% \n",
      "m2w64-gcc-ada-5.3.0  | 33.5 MB   | 2          |   2% \n",
      "m2w64-gcc-ada-5.3.0  | 33.5 MB   | 5          |   5% \n",
      "m2w64-gcc-ada-5.3.0  | 33.5 MB   | 8          |   8% \n",
      "m2w64-gcc-ada-5.3.0  | 33.5 MB   | #          |  11% \n",
      "m2w64-gcc-ada-5.3.0  | 33.5 MB   | #2         |  13% \n",
      "m2w64-gcc-ada-5.3.0  | 33.5 MB   | #6         |  16% \n",
      "m2w64-gcc-ada-5.3.0  | 33.5 MB   | ##         |  21% \n",
      "m2w64-gcc-ada-5.3.0  | 33.5 MB   | ##3        |  24% \n",
      "m2w64-gcc-ada-5.3.0  | 33.5 MB   | ##6        |  27% \n",
      "m2w64-gcc-ada-5.3.0  | 33.5 MB   | ##9        |  30% \n",
      "m2w64-gcc-ada-5.3.0  | 33.5 MB   | ###2       |  33% \n",
      "m2w64-gcc-ada-5.3.0  | 33.5 MB   | ###5       |  35% \n",
      "m2w64-gcc-ada-5.3.0  | 33.5 MB   | ###9       |  40% \n",
      "m2w64-gcc-ada-5.3.0  | 33.5 MB   | ####4      |  44% \n",
      "m2w64-gcc-ada-5.3.0  | 33.5 MB   | ####7      |  48% \n",
      "m2w64-gcc-ada-5.3.0  | 33.5 MB   | #####      |  51% \n",
      "m2w64-gcc-ada-5.3.0  | 33.5 MB   | #####3     |  54% \n",
      "m2w64-gcc-ada-5.3.0  | 33.5 MB   | #####8     |  58% \n",
      "m2w64-gcc-ada-5.3.0  | 33.5 MB   | ######1    |  62% \n",
      "m2w64-gcc-ada-5.3.0  | 33.5 MB   | ######4    |  64% \n",
      "m2w64-gcc-ada-5.3.0  | 33.5 MB   | ######7    |  68% \n",
      "m2w64-gcc-ada-5.3.0  | 33.5 MB   | #######    |  71% \n",
      "m2w64-gcc-ada-5.3.0  | 33.5 MB   | #######4   |  74% \n",
      "m2w64-gcc-ada-5.3.0  | 33.5 MB   | #######7   |  77% \n",
      "m2w64-gcc-ada-5.3.0  | 33.5 MB   | ########1  |  81% \n",
      "m2w64-gcc-ada-5.3.0  | 33.5 MB   | ########4  |  85% \n",
      "m2w64-gcc-ada-5.3.0  | 33.5 MB   | ########7  |  88% \n",
      "m2w64-gcc-ada-5.3.0  | 33.5 MB   | #########1 |  92% \n",
      "m2w64-gcc-ada-5.3.0  | 33.5 MB   | #########4 |  95% \n",
      "m2w64-gcc-ada-5.3.0  | 33.5 MB   | #########8 |  98% \n",
      "m2w64-gcc-ada-5.3.0  | 33.5 MB   | ########## | 100% \n",
      "\n",
      "m2w64-toolchain-5.3. | 2 KB      |            |   0% \n",
      "m2w64-toolchain-5.3. | 2 KB      | ########## | 100% \n",
      "\n",
      "pystan-2.19.0.0      | 11.9 MB   |            |   0% \n",
      "pystan-2.19.0.0      | 11.9 MB   | 6          |   6% \n",
      "pystan-2.19.0.0      | 11.9 MB   | #3         |  14% \n",
      "pystan-2.19.0.0      | 11.9 MB   | ##3        |  24% \n",
      "pystan-2.19.0.0      | 11.9 MB   | ##9        |  29% \n",
      "pystan-2.19.0.0      | 11.9 MB   | ###7       |  37% \n",
      "pystan-2.19.0.0      | 11.9 MB   | ####6      |  46% \n",
      "pystan-2.19.0.0      | 11.9 MB   | #####5     |  55% \n",
      "pystan-2.19.0.0      | 11.9 MB   | ######2    |  63% \n",
      "pystan-2.19.0.0      | 11.9 MB   | #######2   |  73% \n",
      "pystan-2.19.0.0      | 11.9 MB   | ########   |  81% \n",
      "pystan-2.19.0.0      | 11.9 MB   | #########  |  90% \n",
      "pystan-2.19.0.0      | 11.9 MB   | #########8 |  98% \n",
      "pystan-2.19.0.0      | 11.9 MB   | ########## | 100% \n",
      "\n",
      "ephem-3.7.7.1        | 741 KB    |            |   0% \n",
      "ephem-3.7.7.1        | 741 KB    | #########4 |  95% \n",
      "ephem-3.7.7.1        | 741 KB    | ########## | 100% \n",
      "\n",
      "m2w64-make-4.1.2351. | 116 KB    |            |   0% \n",
      "m2w64-make-4.1.2351. | 116 KB    | ########## | 100% \n",
      "\n",
      "m2w64-gcc-fortran-5. | 10.3 MB   |            |   0% \n",
      "m2w64-gcc-fortran-5. | 10.3 MB   | 8          |   9% \n",
      "m2w64-gcc-fortran-5. | 10.3 MB   | #1         |  12% \n",
      "m2w64-gcc-fortran-5. | 10.3 MB   | #8         |  19% \n",
      "m2w64-gcc-fortran-5. | 10.3 MB   | ##2        |  23% \n",
      "m2w64-gcc-fortran-5. | 10.3 MB   | ##6        |  26% \n",
      "m2w64-gcc-fortran-5. | 10.3 MB   | ####       |  40% \n",
      "m2w64-gcc-fortran-5. | 10.3 MB   | ####6      |  46% \n",
      "m2w64-gcc-fortran-5. | 10.3 MB   | #####9     |  60% \n",
      "m2w64-gcc-fortran-5. | 10.3 MB   | ######9    |  69% \n",
      "m2w64-gcc-fortran-5. | 10.3 MB   | #######8   |  78% \n",
      "m2w64-gcc-fortran-5. | 10.3 MB   | ########6  |  86% \n",
      "m2w64-gcc-fortran-5. | 10.3 MB   | ########## | 100% \n",
      "\n",
      "convertdate-2.1.3    | 30 KB     |            |   0% \n",
      "convertdate-2.1.3    | 30 KB     | #####3     |  54% \n",
      "convertdate-2.1.3    | 30 KB     | ########## | 100% \n",
      "\n",
      "m2w64-binutils-2.25. | 44.3 MB   |            |   0% \n",
      "m2w64-binutils-2.25. | 44.3 MB   | 1          |   1% \n",
      "m2w64-binutils-2.25. | 44.3 MB   | 2          |   3% \n",
      "m2w64-binutils-2.25. | 44.3 MB   | 5          |   5% \n",
      "m2w64-binutils-2.25. | 44.3 MB   | 7          |   7% \n",
      "m2w64-binutils-2.25. | 44.3 MB   | 9          |   9% \n",
      "m2w64-binutils-2.25. | 44.3 MB   | #1         |  11% \n",
      "m2w64-binutils-2.25. | 44.3 MB   | #3         |  14% \n",
      "m2w64-binutils-2.25. | 44.3 MB   | #6         |  17% \n",
      "m2w64-binutils-2.25. | 44.3 MB   | #8         |  19% \n",
      "m2w64-binutils-2.25. | 44.3 MB   | ##1        |  21% \n",
      "m2w64-binutils-2.25. | 44.3 MB   | ##3        |  24% \n",
      "m2w64-binutils-2.25. | 44.3 MB   | ##6        |  26% \n",
      "m2w64-binutils-2.25. | 44.3 MB   | ##8        |  29% \n",
      "m2w64-binutils-2.25. | 44.3 MB   | ###1       |  32% \n",
      "m2w64-binutils-2.25. | 44.3 MB   | ###4       |  34% \n",
      "m2w64-binutils-2.25. | 44.3 MB   | ###6       |  36% \n",
      "m2w64-binutils-2.25. | 44.3 MB   | ###8       |  38% \n",
      "m2w64-binutils-2.25. | 44.3 MB   | ####       |  40% \n",
      "m2w64-binutils-2.25. | 44.3 MB   | ####2      |  42% \n",
      "m2w64-binutils-2.25. | 44.3 MB   | ####5      |  46% \n",
      "m2w64-binutils-2.25. | 44.3 MB   | ####7      |  48% \n",
      "m2w64-binutils-2.25. | 44.3 MB   | #####      |  50% \n",
      "m2w64-binutils-2.25. | 44.3 MB   | #####2     |  52% \n",
      "m2w64-binutils-2.25. | 44.3 MB   | #####4     |  54% \n",
      "m2w64-binutils-2.25. | 44.3 MB   | #####6     |  57% \n",
      "m2w64-binutils-2.25. | 44.3 MB   | #####8     |  59% \n",
      "m2w64-binutils-2.25. | 44.3 MB   | ######1    |  61% \n",
      "m2w64-binutils-2.25. | 44.3 MB   | ######3    |  64% \n",
      "m2w64-binutils-2.25. | 44.3 MB   | ######6    |  66% \n",
      "m2w64-binutils-2.25. | 44.3 MB   | ######8    |  69% \n",
      "m2w64-binutils-2.25. | 44.3 MB   | #######1   |  71% \n",
      "m2w64-binutils-2.25. | 44.3 MB   | #######3   |  74% \n",
      "m2w64-binutils-2.25. | 44.3 MB   | #######5   |  76% \n",
      "m2w64-binutils-2.25. | 44.3 MB   | #######8   |  79% \n",
      "m2w64-binutils-2.25. | 44.3 MB   | ########   |  81% \n",
      "m2w64-binutils-2.25. | 44.3 MB   | ########3  |  83% \n",
      "m2w64-binutils-2.25. | 44.3 MB   | ########4  |  85% \n",
      "m2w64-binutils-2.25. | 44.3 MB   | ########6  |  86% \n",
      "m2w64-binutils-2.25. | 44.3 MB   | ########8  |  88% \n",
      "m2w64-binutils-2.25. | 44.3 MB   | #########  |  90% \n",
      "m2w64-binutils-2.25. | 44.3 MB   | #########2 |  93% \n",
      "m2w64-binutils-2.25. | 44.3 MB   | #########4 |  95% \n",
      "m2w64-binutils-2.25. | 44.3 MB   | #########8 |  98% \n",
      "m2w64-binutils-2.25. | 44.3 MB   | ########## | 100% \n",
      "\n",
      "m2w64-mpfr-3.1.4     | 293 KB    |            |   0% \n",
      "m2w64-mpfr-3.1.4     | 293 KB    | ########## | 100% \n",
      "\n",
      "lunarcalendar-0.0.9  | 20 KB     |            |   0% \n",
      "lunarcalendar-0.0.9  | 20 KB     | ########## | 100% \n",
      "\n",
      "python_abi-3.7       | 4 KB      |            |   0% \n",
      "python_abi-3.7       | 4 KB      | ########## | 100% \n",
      "\n",
      "m2w64-tools-git-5.0. | 314 KB    |            |   0% \n",
      "m2w64-tools-git-5.0. | 314 KB    | ########## | 100% \n",
      "Preparing transaction: ...working... done\n",
      "Verifying transaction: ...working... done\n",
      "Executing transaction: ...working... done\n",
      "\n",
      "Note: you may need to restart the kernel to use updated packages.\n"
     ]
    },
    {
     "name": "stderr",
     "output_type": "stream",
     "text": [
      "\n",
      "\n",
      "==> WARNING: A newer version of conda exists. <==\n",
      "  current version: 4.7.12\n",
      "  latest version: 4.8.3\n",
      "\n",
      "Please update conda by running\n",
      "\n",
      "    $ conda update -n base -c defaults conda\n",
      "\n",
      "\n",
      "WARNING conda.gateways.disk.delete:unlink_or_rename_to_trash(140): Could not remove or rename C:\\Users\\jih02\\AppData\\Local\\Continuum\\anaconda3\\Lib\\site-packages\\matplotlib\\mpl-data\\fonts\\ttf\\DejaVuSans.ttf.  Please remove this file manually (you may need to reboot to free file handles)\n"
     ]
    }
   ],
   "source": [
    "conda install -c conda-forge fbprophet"
   ]
  },
  {
   "cell_type": "code",
   "execution_count": null,
   "metadata": {},
   "outputs": [],
   "source": [
    "from fbprophet import Prophet"
   ]
  },
  {
   "cell_type": "code",
   "execution_count": null,
   "metadata": {},
   "outputs": [],
   "source": []
  },
  {
   "cell_type": "code",
   "execution_count": null,
   "metadata": {},
   "outputs": [],
   "source": []
  },
  {
   "cell_type": "code",
   "execution_count": null,
   "metadata": {},
   "outputs": [],
   "source": []
  },
  {
   "cell_type": "code",
   "execution_count": null,
   "metadata": {},
   "outputs": [],
   "source": []
  },
  {
   "cell_type": "code",
   "execution_count": null,
   "metadata": {},
   "outputs": [],
   "source": []
  }
 ],
 "metadata": {
  "kernelspec": {
   "display_name": "Python 3",
   "language": "python",
   "name": "python3"
  },
  "language_info": {
   "codemirror_mode": {
    "name": "ipython",
    "version": 3
   },
   "file_extension": ".py",
   "mimetype": "text/x-python",
   "name": "python",
   "nbconvert_exporter": "python",
   "pygments_lexer": "ipython3",
   "version": "3.7.4"
  }
 },
 "nbformat": 4,
 "nbformat_minor": 2
}
